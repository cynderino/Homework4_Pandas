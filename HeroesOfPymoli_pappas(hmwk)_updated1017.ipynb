{
 "cells": [
  {
   "cell_type": "markdown",
   "metadata": {},
   "source": [
    "### Heroes Of Pymoli Data Analysis\n",
    "* Of the 1163 active players, the vast majority are male (84%). There also exists, a smaller, but notable proportion of female players (14%).\n",
    "\n",
    "* Our peak age demographic falls between 20-24 (44.8%) with secondary groups falling between 15-19 (18.60%) and 25-29 (13.4%).  \n",
    "-----"
   ]
  },
  {
   "cell_type": "markdown",
   "metadata": {},
   "source": [
    "### Note\n",
    "* Instructions have been included for each segment. You do not have to follow them exactly, but they are included to help you think through the steps."
   ]
  },
  {
   "cell_type": "code",
   "execution_count": null,
   "metadata": {},
   "outputs": [],
   "source": [
    "# Dependencies and Setup\n",
    "import pandas as pd\n",
    "import numpy as np\n",
    "\n",
    "# File to Load (Remember to Change These)\n",
    "file_to_load = \"purchase_data.csv\"\n",
    "\n",
    "# Read Purchasing File and store into Pandas data frame\n",
    "purchase_data = pd.read_csv(file_to_load)"
   ]
  },
  {
   "cell_type": "code",
   "execution_count": null,
   "metadata": {},
   "outputs": [],
   "source": [
    "purchase_data.head()"
   ]
  },
  {
   "cell_type": "code",
   "execution_count": null,
   "metadata": {},
   "outputs": [],
   "source": [
    "# Push the remade DataFrame to a new CSV file\n",
    "#purchase_data.to_csv(\"Output/purchase_data_clean.csv\",\n",
    "                  #encoding=\"utf-8\", index=False, header=True)"
   ]
  },
  {
   "cell_type": "markdown",
   "metadata": {},
   "source": [
    "## Player Count"
   ]
  },
  {
   "cell_type": "code",
   "execution_count": null,
   "metadata": {},
   "outputs": [],
   "source": [
    "playerCount = purchase_data[\"SN\"].nunique()\n",
    "\n",
    "# new df with player info\n",
    "players_df = pd.DataFrame([{'Total Players': playerCount}])\n",
    "#gets rid of number index and resets to Total Players \n",
    "players_df.set_index('Total Players', inplace = True)\n",
    "players_df"
   ]
  },
  {
   "cell_type": "markdown",
   "metadata": {},
   "source": [
    "* Display the total number of players\n"
   ]
  },
  {
   "cell_type": "markdown",
   "metadata": {},
   "source": [
    "## Purchasing Analysis (Total)"
   ]
  },
  {
   "cell_type": "markdown",
   "metadata": {},
   "source": [
    "* Run basic calculations to obtain number of unique items, average price, etc.\n",
    "\n",
    "\n",
    "* Create a summary data frame to hold the results\n",
    "\n",
    "\n",
    "* Optional: give the displayed data cleaner formatting\n",
    "\n",
    "\n",
    "* Display the summary data frame\n"
   ]
  },
  {
   "cell_type": "code",
   "execution_count": null,
   "metadata": {
    "scrolled": true
   },
   "outputs": [],
   "source": [
    "# Calculate the number of unique items in the DataFrame\n",
    "unique_items = len(purchase_data[\"Item Name\"].unique())\n",
    "print(unique_items)"
   ]
  },
  {
   "cell_type": "code",
   "execution_count": null,
   "metadata": {},
   "outputs": [],
   "source": [
    "# Calculate the Average Purchase Price\n",
    "appAVG = purchase_data[\"Price\"].mean()\n",
    "print(appAVG)"
   ]
  },
  {
   "cell_type": "code",
   "execution_count": null,
   "metadata": {},
   "outputs": [],
   "source": [
    "# Calculate the Total Number of Purchases\n",
    "app = purchase_data[\"Price\"].count()\n",
    "print(app)"
   ]
  },
  {
   "cell_type": "code",
   "execution_count": null,
   "metadata": {},
   "outputs": [],
   "source": [
    "# Calculate the total revenue\n",
    "totalREV = purchase_data[\"Price\"].sum()\n",
    "print(totalREV)"
   ]
  },
  {
   "cell_type": "code",
   "execution_count": null,
   "metadata": {},
   "outputs": [],
   "source": [
    "summary_table = pd.DataFrame({\"Total Unique Items\": [unique_items],\n",
    "                              \"Average Purchase Price\": [appAVG],\n",
    "                              \"Total Purchases\": [app],\n",
    "                              \"Total Revenue\": [totalREV]})\n",
    "summary_table\n",
    "\n",
    "summary_table.style.format({'Average Purchase Price': '${:.2f}', 'Total Revenue': '${:,.2f}'})"
   ]
  },
  {
   "cell_type": "markdown",
   "metadata": {},
   "source": [
    "## Gender Demographics"
   ]
  },
  {
   "cell_type": "markdown",
   "metadata": {},
   "source": [
    "* Percentage and Count of Male Players\n",
    "\n",
    "\n",
    "* Percentage and Count of Female Players\n",
    "\n",
    "\n",
    "* Percentage and Count of Other / Non-Disclosed\n",
    "\n",
    "\n"
   ]
  },
  {
   "cell_type": "code",
   "execution_count": null,
   "metadata": {},
   "outputs": [],
   "source": [
    "# quick check for complete data\n",
    "purchase_data.count()"
   ]
  },
  {
   "cell_type": "code",
   "execution_count": null,
   "metadata": {},
   "outputs": [],
   "source": [
    "#remove duplicate SNs\n",
    "no_dup_players = purchase_data.drop_duplicates(['SN'], keep ='last')\n",
    "\n",
    "# count of genders \n",
    "gender_counts = no_dup_players['Gender'].value_counts().reset_index()\n",
    "# add column for % of players using player count from first table and gender_counts \n",
    "# column which is a count from line above\n",
    "gender_counts['% of Players'] = gender_counts['Gender']/playerCount * 100\n",
    "# rename the columns\n",
    "gender_counts.rename(columns = {'index': 'Gender', 'Gender': '# of Players'}, inplace = True)\n",
    "# sets index as Gender\n",
    "gender_counts.set_index(['Gender'], inplace = True)\n",
    "#formats table\n",
    "gender_counts.style.format({\"% of Players\": \"{:.1f}%\"})"
   ]
  },
  {
   "cell_type": "markdown",
   "metadata": {},
   "source": [
    "\n",
    "## Purchasing Analysis (Gender)"
   ]
  },
  {
   "cell_type": "markdown",
   "metadata": {},
   "source": [
    "* Run basic calculations to obtain purchase count, avg. purchase price, avg. purchase total per person etc. by gender\n",
    "\n",
    "\n",
    "\n",
    "\n",
    "* Create a summary data frame to hold the results\n",
    "\n",
    "\n",
    "* Optional: give the displayed data cleaner formatting\n",
    "\n",
    "\n",
    "* Display the summary data frame"
   ]
  },
  {
   "cell_type": "code",
   "execution_count": null,
   "metadata": {},
   "outputs": [],
   "source": [
    "purchase_data[\"Total Price\"] = purchase_data[\"Price\"]\n",
    "purchase_data[\"Count\"] = 0\n",
    "purchase_analysis = purchase_data.groupby([\"Gender\"]).agg({\"Price\":\"mean\",\"Total Price\":\"sum\",\"Count\":\"size\"})\n",
    "purchase_analysis[\"Normalized Totals\"] = purchase_analysis[\"Total Price\"] / purchase_analysis[\"Count\"]\n",
    "purchase_analysis = purchase_analysis.rename(columns={\"Count\": \"Purchase Count\",\"Price\" : \"Average Purchase Price\",\"Total Price\":\"Total Purchase Value\"})\n",
    "\n",
    "# Convert to Dataframe to display tabular format\n",
    "purchase_analysis = pd.DataFrame(purchase_analysis)\n",
    "\n",
    "# organize data\n",
    "purchase_analysis = purchase_analysis[[\"Purchase Count\",\"Average Purchase Price\",\"Total Purchase Value\",\"Normalized Totals\"]]\n",
    "\n",
    "# cleanup on aisle 3\n",
    "purchase_analysis[\"Average Purchase Price\"] = purchase_analysis[\"Average Purchase Price\"].map('${:,.2f}'.format)\n",
    "purchase_analysis[\"Total Purchase Value\"] = purchase_analysis[\"Total Purchase Value\"].map('${:,.2f}'.format)\n",
    "purchase_analysis[\"Normalized Totals\"] = purchase_analysis[\"Normalized Totals\"].map('${:,.2f}'.format)\n",
    "\n",
    "purchase_analysis\n"
   ]
  },
  {
   "cell_type": "markdown",
   "metadata": {},
   "source": [
    "## Age Demographics"
   ]
  },
  {
   "cell_type": "markdown",
   "metadata": {},
   "source": [
    "* Establish bins for ages\n",
    "\n",
    "\n",
    "* Categorize the existing players using the age bins. Hint: use pd.cut()\n",
    "\n",
    "\n",
    "* Calculate the numbers and percentages by age group\n",
    "\n",
    "\n",
    "* Create a summary data frame to hold the results\n",
    "\n",
    "\n",
    "* Optional: round the percentage column to two decimal points\n",
    "\n",
    "\n",
    "* Display Age Demographics Table\n"
   ]
  },
  {
   "cell_type": "code",
   "execution_count": null,
   "metadata": {},
   "outputs": [],
   "source": [
    "age_buckets = [0, 9.90, 14.90, 19.90, 24.90, 29.90, 34.90, 39.90, 99999]\n",
    "group_names = [\"<10\", \"10-14\", \"15-19\", \"20-24\", \"25-29\", \"30-34\", \"35-39\", \"40+\"]\n",
    "pd.options.display.float_format = '{:,.2f}'.format\n",
    "df_grpby = purchase_data.copy()\n",
    "df_grpby.drop_duplicates(['SN', 'Gender'], inplace=True, keep='first')\n",
    "df_grpby.head()\n",
    "df_grpby['Age_bin'] = pd.cut(df_grpby['Age'], age_buckets, labels=group_names)\n",
    "df_grpby.head()\n",
    "df = pd.DataFrame()\n",
    "df['% of Players']=(df_grpby.groupby(['Age_bin'])['Age'].count() * 100)/float(playerCount)\n",
    "df['Total Count'] = df_grpby.groupby(['Age_bin'])['Age'].count()\n",
    "del df.index.name\n",
    "df['% of Players']=df['% of Players'].map(\"%{:,.2f}\".format)\n",
    "\n",
    "df"
   ]
  },
  {
   "cell_type": "markdown",
   "metadata": {},
   "source": [
    "## Purchasing Analysis (Age)"
   ]
  },
  {
   "cell_type": "markdown",
   "metadata": {},
   "source": [
    "* Bin the purchase_data data frame by age\n",
    "\n",
    "\n",
    "* Run basic calculations to obtain purchase count, avg. purchase price, avg. purchase total per person etc. in the table below\n",
    "\n",
    "\n",
    "* Create a summary data frame to hold the results\n",
    "\n",
    "\n",
    "* Optional: give the displayed data cleaner formatting\n",
    "\n",
    "\n",
    "* Display the summary data frame"
   ]
  },
  {
   "cell_type": "code",
   "execution_count": null,
   "metadata": {},
   "outputs": [],
   "source": [
    "age_bins = [0, 9.90, 14.90, 19.90, 24.90, 29.90, 34.90, 39.90, 99999]\n",
    "group_names = [\"<10\", \"10-14\", \"15-19\", \"20-24\", \"25-29\", \"30-34\", \"35-39\", \"40+\"]\n",
    "\n",
    "purchase_analysis = purchase_data\n",
    "\n",
    "# add column and bucket info\n",
    "purchase_analysis[\"Age Buckets\"] = pd.cut(purchase_analysis[\"Age\"], age_bins, labels = group_names)\n",
    "\n",
    "# add columns: Purchase Count, Average Purchase Price, Total Purchase Value, Normalized Totals and set to 0\n",
    "purchase_analysis[\"Purchase Count\"] = 0\n",
    "purchase_analysis[\"Average Purchase Price\"] = purchase_analysis[\"Price\"]\n",
    "purchase_analysis[\"Total Purchase Value\"] = purchase_analysis[\"Price\"]\n",
    "purchase_analysis[\"Normalized Totals\"] = purchase_analysis[\"Price\"]\n",
    "\n",
    "# group \n",
    "purchase_analysis = purchase_analysis.groupby([\"Age Buckets\"]).agg({\"Purchase Count\" : \"size\",\"Average Purchase Price\": \"mean\",\"Total Purchase Value\" : \"sum\",\"Normalized Totals\" : \"sum\",\"Age Buckets\": \"min\"})\n",
    "purchase_analysis[\"Normalized Totals\"] = purchase_analysis[\"Normalized Totals\"] / purchase_analysis[\"Purchase Count\"]\n",
    "\n",
    "\n",
    "# cleanup\n",
    "purchase_analysis[\"Average Purchase Price\"] = purchase_analysis[\"Average Purchase Price\"].map(\"${:,.2f}\".format)\n",
    "purchase_analysis[\"Total Purchase Value\"] = purchase_analysis[\"Total Purchase Value\"].map(\"${:,.2f}\".format)\n",
    "purchase_analysis[\"Normalized Totals\"] = purchase_analysis[\"Normalized Totals\"].map(\"${:,.2f}\".format)\n",
    "\n",
    "# sort\n",
    "purchase_analysis = purchase_analysis.sort_values(by=[\"Age Buckets\"], ascending=True)\n",
    "\n",
    "# remove unnecessary column\n",
    "del purchase_analysis[\"Age Buckets\"]\n",
    "\n",
    "purchase_analysis"
   ]
  },
  {
   "cell_type": "markdown",
   "metadata": {},
   "source": [
    "## Top Spenders"
   ]
  },
  {
   "cell_type": "markdown",
   "metadata": {},
   "source": [
    "* Run basic calculations to obtain the results in the table below\n",
    "\n",
    "\n",
    "* Create a summary data frame to hold the results\n",
    "\n",
    "\n",
    "* Sort the total purchase value column in descending order\n",
    "\n",
    "\n",
    "* Optional: give the displayed data cleaner formatting\n",
    "\n",
    "\n",
    "* Display a preview of the summary data frame\n",
    "\n"
   ]
  },
  {
   "cell_type": "code",
   "execution_count": null,
   "metadata": {},
   "outputs": [],
   "source": [
    "# grouping...again\n",
    "top_spenders = purchase_data\n",
    "top_spenders [\"Total Price\"] =top_spenders[\"Price\"]\n",
    "top_spenders [\"Count\"] = 0\n",
    "top_spenders =top_spenders.groupby([\"SN\"]).agg({\"Price\":\"mean\",\"Total Price\":\"sum\",\"Count\":\"size\"})\n",
    "\n",
    "# Sort\n",
    "top_spenders =top_spenders.sort_values(by=[\"Total Price\"], ascending=False)\n",
    "\n",
    "# Organize\n",
    "top_spenders =top_spenders.rename(columns={\"Count\": \"Purchase Count\",\"Price\" : \"Average Purchase Price\",\"Total Price\":\"Total Purchase Value\"})\n",
    "\n",
    "# return to DF\n",
    "top_spenders = pd.DataFrame(top_spenders)\n",
    "\n",
    "# Organize DF\n",
    "top_spenders =top_spenders[[\"Purchase Count\",\"Average Purchase Price\",\"Total Purchase Value\"]]\n",
    "\n",
    "# cleanup on aisle 3\n",
    "top_spenders [\"Average Purchase Price\"] =top_spenders[\"Average Purchase Price\"].map('${:,.2f}'.format)\n",
    "top_spenders [\"Total Purchase Value\"] =top_spenders[\"Total Purchase Value\"].map('${:,.2f}'.format)\n",
    "top_spenders.head(5)"
   ]
  },
  {
   "cell_type": "markdown",
   "metadata": {},
   "source": [
    "## Most Popular Items"
   ]
  },
  {
   "cell_type": "markdown",
   "metadata": {},
   "source": [
    "* Retrieve the Item ID, Item Name, and Item Price columns\n",
    "\n",
    "\n",
    "* Group by Item ID and Item Name. Perform calculations to obtain purchase count, item price, and total purchase value\n",
    "\n",
    "\n",
    "* Create a summary data frame to hold the results\n",
    "\n",
    "\n",
    "* Sort the purchase count column in descending order\n",
    "\n",
    "\n",
    "* Optional: give the displayed data cleaner formatting\n",
    "\n",
    "\n",
    "* Display a preview of the summary data frame\n",
    "\n"
   ]
  },
  {
   "cell_type": "code",
   "execution_count": null,
   "metadata": {},
   "outputs": [],
   "source": [
    "# group\n",
    "most_popular = purchase_data\n",
    "most_popular[\"Total Price\"] = most_popular[\"Price\"]\n",
    "most_popular[\"Count\"] = 0\n",
    "most_popular = most_popular.groupby([\"Item ID\"]).agg({\"Item Name\":\"min\",\"Price\":\"min\",\"Total Price\":\"sum\",\"Count\":\"size\"})\n",
    "\n",
    "# sort\n",
    "most_popular = most_popular.sort_values(by=[\"Count\"], ascending=False)\n",
    "\n",
    "# organize\n",
    "most_popular = most_popular.rename(columns={\"Count\": \"Purchase Count\",\"Price\" : \"Item Price\",\"Total Price\":\"Total Purchase Value\"})\n",
    "\n",
    "# return to df\n",
    "most_popular = pd.DataFrame(most_popular)\n",
    "\n",
    "# organize df\n",
    "most_popular = most_popular[[\"Item Name\",\"Purchase Count\",\"Item Price\",\"Total Purchase Value\"]]\n",
    "\n",
    "# cleanup\n",
    "most_popular[\"Item Price\"] =most_popular[\"Item Price\"].map('${:,.2f}'.format)\n",
    "most_popular[\"Total Purchase Value\"] =most_popular[\"Total Purchase Value\"].map('${:,.2f}'.format)\n",
    "most_popular.head(5)"
   ]
  },
  {
   "cell_type": "markdown",
   "metadata": {},
   "source": [
    "## Most Profitable Items"
   ]
  },
  {
   "cell_type": "markdown",
   "metadata": {},
   "source": [
    "* Sort the above table by total purchase value in descending order\n",
    "\n",
    "\n",
    "* Optional: give the displayed data cleaner formatting\n",
    "\n",
    "\n",
    "* Display a preview of the data frame\n",
    "\n"
   ]
  },
  {
   "cell_type": "code",
   "execution_count": null,
   "metadata": {
    "scrolled": true
   },
   "outputs": [],
   "source": [
    "# group\n",
    "most_profitable = purchase_data\n",
    "most_profitable[\"Total Price\"] = most_profitable[\"Price\"]\n",
    "most_profitable[\"Count\"] = 0\n",
    "most_profitable = most_profitable.groupby([\"Item ID\"]).agg({\"Item Name\":\"min\",\"Price\":\"min\",\"Total Price\":\"sum\",\"Count\":\"size\"})\n",
    " \n",
    "# Sort\n",
    "most_profitable = most_profitable.sort_values(by=[\"Total Price\"], ascending=False)\n",
    "\n",
    "# organize\n",
    "most_profitable = most_profitable.rename(columns={\"Count\": \"Purchase Count\",\"Price\" : \"Item Price\",\"Total Price\":\"Total Purchase Value\"})\n",
    "\n",
    "# back to df\n",
    "most_profitable = pd.DataFrame(most_profitable)\n",
    "\n",
    "# organize\n",
    "most_profitable = most_profitable[[\"Item Name\",\"Purchase Count\",\"Item Price\",\"Total Purchase Value\"]]\n",
    "\n",
    "# cleanup\n",
    "most_profitable[\"Item Price\"] = most_profitable[\"Item Price\"].map('${:,.2f}'.format)\n",
    "most_profitable[\"Total Purchase Value\"] = most_profitable[\"Total Purchase Value\"].map('${:,.2f}'.format)\n",
    "most_profitable.head(5)"
   ]
  },
  {
   "cell_type": "code",
   "execution_count": null,
   "metadata": {},
   "outputs": [],
   "source": []
  }
 ],
 "metadata": {
  "anaconda-cloud": {},
  "kernel_info": {
   "name": "python3"
  },
  "kernelspec": {
   "display_name": "Python 3",
   "language": "python",
   "name": "python3"
  },
  "language_info": {
   "codemirror_mode": {
    "name": "ipython",
    "version": 3
   },
   "file_extension": ".py",
   "mimetype": "text/x-python",
   "name": "python",
   "nbconvert_exporter": "python",
   "pygments_lexer": "ipython3",
   "version": "3.6.5"
  },
  "nteract": {
   "version": "0.2.0"
  }
 },
 "nbformat": 4,
 "nbformat_minor": 2
}
